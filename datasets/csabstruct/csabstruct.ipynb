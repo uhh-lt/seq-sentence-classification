{
 "cells": [
  {
   "cell_type": "code",
   "execution_count": null,
   "metadata": {},
   "outputs": [],
   "source": [
    "from datasets import load_dataset\n",
    "from typing import List\n",
    "\n",
    "ds = load_dataset(\"allenai/csabstruct\")"
   ]
  },
  {
   "cell_type": "code",
   "execution_count": null,
   "metadata": {},
   "outputs": [],
   "source": [
    "for split in ['train', 'validation', 'test']:\n",
    "    ds_split = ds[split]\n",
    "\n",
    "    documents: List[List[str]] = ds_split[\"sentences\"] # type: ignore\n",
    "    labels = ds_split[\"labels\"] # type: ignore\n",
    "    id2label = {\n",
    "        0: \"background\",\n",
    "        1: \"method\",\n",
    "        2: \"objective\",\n",
    "        3: \"other\",\n",
    "        4: \"result\"\n",
    "    }\n",
    "    labels = [[id2label[label] for label in lls] for lls in labels]\n",
    "\n",
    "    # save as parquet\n",
    "    import pandas as pd\n",
    "\n",
    "    df = pd.DataFrame({\n",
    "        \"sentences\": documents,\n",
    "        \"labels\": labels\n",
    "    })\n",
    "\n",
    "    df.to_parquet(f\"datasets/csabstruct/{split}.parquet\")"
   ]
  },
  {
   "cell_type": "code",
   "execution_count": null,
   "metadata": {},
   "outputs": [],
   "source": [
    "label_dict = {\n",
    "    \"background\": \"Provides context or previous knowledge relevant to the research topic. Think of it as setting the stage for the study.\",\n",
    "    \"method\": \"Describes the procedures and techniques used in the research. This includes the study design, data collection, and analysis methods.\",\n",
    "    \"objective\": \"States the main goal or purpose of the research. What question is this work trying to answer?\",\n",
    "    \"other\": \"Any sentence that doesn't fit into the above categories. This could be discussion, analysis, limitations, or concluding remarks.\",\n",
    "    \"result\": \"Presents the findings or outcomes of the research. This often includes statistical data, tables, and figures.\",\n",
    "}"
   ]
  },
  {
   "cell_type": "code",
   "execution_count": null,
   "metadata": {},
   "outputs": [],
   "source": [
    "import pandas as pd"
   ]
  },
  {
   "cell_type": "code",
   "execution_count": null,
   "metadata": {},
   "outputs": [],
   "source": [
    "df = pd.read_parquet(\"datasets/csabstruct/train.parquet\")\n",
    "documents: List[List[str]] = [list(document_sentences) for document_sentences in df[\"sentences\"].tolist()]\n",
    "labels: List[List[str]] = [list(labels) for labels in df[\"labels\"].tolist()]"
   ]
  },
  {
   "cell_type": "code",
   "execution_count": null,
   "metadata": {},
   "outputs": [],
   "source": []
  }
 ],
 "metadata": {
  "kernelspec": {
   "display_name": "Python 3",
   "language": "python",
   "name": "python3"
  },
  "language_info": {
   "codemirror_mode": {
    "name": "ipython",
    "version": 3
   },
   "file_extension": ".py",
   "mimetype": "text/x-python",
   "name": "python",
   "nbconvert_exporter": "python",
   "pygments_lexer": "ipython3",
   "version": "3.11.11"
  }
 },
 "nbformat": 4,
 "nbformat_minor": 2
}
