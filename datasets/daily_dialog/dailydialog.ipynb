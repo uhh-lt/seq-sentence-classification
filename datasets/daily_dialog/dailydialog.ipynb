{
 "cells": [
  {
   "cell_type": "code",
   "execution_count": null,
   "metadata": {},
   "outputs": [],
   "source": [
    "from pathlib import Path\n",
    "from typing import List\n",
    "import pandas as pd\n",
    "import json"
   ]
  },
  {
   "cell_type": "code",
   "execution_count": null,
   "metadata": {},
   "outputs": [],
   "source": [
    "datasets_path = Path(\"./datasets\")\n",
    "valid_path = datasets_path / \"daily_dialog\" / \"dailydialog_valid.json\"\n",
    "test_path = datasets_path / \"daily_dialog\" / \"dailydialog_test.json\"\n",
    "train_path = datasets_path / \"daily_dialog\" / \"dailydialog_train.json\""
   ]
  },
  {
   "cell_type": "code",
   "execution_count": null,
   "metadata": {},
   "outputs": [],
   "source": [
    "label_map = {'happy': 'joy',\n",
    " 'sad': 'sadness',\n",
    " 'happines': 'joy', \n",
    " 'disgust': 'disgust', \n",
    " 'anger': 'anger',\n",
    " 'excited': 'joy',\n",
    " 'fear': 'fear',\n",
    " 'surprised': 'surprise',\n",
    " 'angry': 'anger', \n",
    " 'neutral': 'neutral',\n",
    " 'surprise': 'surprise', \n",
    " 'sadness': 'sadness',\n",
    " 'happiness': 'joy'\n",
    "}"
   ]
  },
  {
   "cell_type": "code",
   "execution_count": null,
   "metadata": {},
   "outputs": [],
   "source": [
    "def create_dataset(path: Path):\n",
    "    # read json file\n",
    "    data = json.loads(path.read_bytes())\n",
    "\n",
    "    # extract sentences and labels\n",
    "    sentences_list: List[List[str]] = []\n",
    "    labels_list: List[List[str]] = []\n",
    "    for dialog_id, conversations in data.items():\n",
    "        if len(conversations) > 1:\n",
    "            print(f\"Dialog {dialog_id} has more than one conversation\")\n",
    "\n",
    "        sentences: List[str] = []\n",
    "        labels: List[str] = []\n",
    "        for utterance in conversations[0]:\n",
    "            sentences.append(f\"Speaker {utterance['speaker']}: {utterance['utterance']}\")\n",
    "            labels.append(label_map[utterance[\"emotion\"]])\n",
    "\n",
    "        sentences_list.append(sentences)\n",
    "        labels_list.append(labels)\n",
    "\n",
    "    # create dataframe\n",
    "    df = pd.DataFrame({\"sentences\": sentences_list, \"labels\": labels_list})\n",
    "\n",
    "    # save dataframe\n",
    "    df.to_parquet(path.with_suffix(\".parquet\"))\n",
    "\n",
    "    # unique labels\n",
    "    unique_labels = set()\n",
    "    for labels in labels_list:\n",
    "        unique_labels.update(labels)\n",
    "    return unique_labels"
   ]
  },
  {
   "cell_type": "code",
   "execution_count": null,
   "metadata": {},
   "outputs": [],
   "source": [
    "l1 = create_dataset(valid_path)\n",
    "l2 = create_dataset(test_path)\n",
    "l3 = create_dataset(train_path)"
   ]
  },
  {
   "cell_type": "code",
   "execution_count": null,
   "metadata": {},
   "outputs": [],
   "source": [
    "all_labels = l1.union(l2).union(l3)\n",
    "print(all_labels)"
   ]
  },
  {
   "cell_type": "code",
   "execution_count": null,
   "metadata": {},
   "outputs": [],
   "source": [
    "# read datasets\n",
    "valid_df = pd.read_parquet(valid_path.with_suffix(\".parquet\"))\n",
    "test_df = pd.read_parquet(test_path.with_suffix(\".parquet\"))\n",
    "train_df = pd.read_parquet(train_path.with_suffix(\".parquet\"))"
   ]
  },
  {
   "cell_type": "code",
   "execution_count": null,
   "metadata": {},
   "outputs": [],
   "source": [
    "train_df.head()"
   ]
  },
  {
   "cell_type": "code",
   "execution_count": null,
   "metadata": {},
   "outputs": [],
   "source": [
    "valid_df[\"labels\"]"
   ]
  },
  {
   "cell_type": "code",
   "execution_count": null,
   "metadata": {},
   "outputs": [],
   "source": [
    "len(train_df)"
   ]
  },
  {
   "cell_type": "code",
   "execution_count": null,
   "metadata": {},
   "outputs": [],
   "source": [
    "# count the labels\n",
    "label_counts = train_df[\"labels\"].explode().value_counts()"
   ]
  },
  {
   "cell_type": "code",
   "execution_count": null,
   "metadata": {},
   "outputs": [],
   "source": [
    "label_counts"
   ]
  },
  {
   "cell_type": "code",
   "execution_count": null,
   "metadata": {},
   "outputs": [],
   "source": [
    "# i want to find all rows that have a certain label\n",
    "train_df[train_df[\"labels\"].apply(lambda x: \"fear\" in x)]"
   ]
  },
  {
   "cell_type": "code",
   "execution_count": null,
   "metadata": {},
   "outputs": [],
   "source": [
    "train_df[\"labels\"][18]"
   ]
  },
  {
   "cell_type": "code",
   "execution_count": null,
   "metadata": {},
   "outputs": [],
   "source": [
    "# count the labels of train_df[\"labels\"][18]\n",
    "train_df[\"labels\"][18].count(\"fear\")"
   ]
  },
  {
   "cell_type": "code",
   "execution_count": null,
   "metadata": {},
   "outputs": [],
   "source": [
    "label_list = list(train_df[\"labels\"][18])\n",
    "\n",
    "for idx, row in train_df[train_df[\"labels\"].apply(lambda x: \"fear\" in x)].iterrows():\n",
    "    label_list = list(row['labels'])\n",
    "    label_counts = {label: label_list.count(label) for label in set(label_list)}\n",
    "    print(idx)\n",
    "    print(label_counts)\n"
   ]
  },
  {
   "cell_type": "code",
   "execution_count": null,
   "metadata": {},
   "outputs": [],
   "source": [
    "list(train_df[train_df[\"labels\"].apply(lambda x: \"fear\" in x)].iterrows())"
   ]
  },
  {
   "cell_type": "code",
   "execution_count": null,
   "metadata": {},
   "outputs": [],
   "source": []
  }
 ],
 "metadata": {
  "kernelspec": {
   "display_name": "sent-class",
   "language": "python",
   "name": "python3"
  },
  "language_info": {
   "codemirror_mode": {
    "name": "ipython",
    "version": 3
   },
   "file_extension": ".py",
   "mimetype": "text/x-python",
   "name": "python",
   "nbconvert_exporter": "python",
   "pygments_lexer": "ipython3",
   "version": "3.10.15"
  }
 },
 "nbformat": 4,
 "nbformat_minor": 2
}
