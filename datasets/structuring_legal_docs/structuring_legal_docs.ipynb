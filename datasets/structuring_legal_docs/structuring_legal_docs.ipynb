{
 "cells": [
  {
   "cell_type": "code",
   "execution_count": 19,
   "metadata": {},
   "outputs": [],
   "source": [
    "from datasets import load_dataset\n",
    "from typing import List\n",
    "import pandas as pd\n",
    "from pathlib import Path"
   ]
  },
  {
   "cell_type": "code",
   "execution_count": 20,
   "metadata": {},
   "outputs": [],
   "source": [
    "ds = load_dataset(\"opennyaiorg/InRhetoricalRoles\")"
   ]
  },
  {
   "cell_type": "code",
   "execution_count": 21,
   "metadata": {},
   "outputs": [],
   "source": [
    "def create_dataset(hf_ds, out_path: Path):\n",
    "    # extract sentences and labels\n",
    "    sentences_list: List[List[str]] = []\n",
    "    labels_list: List[List[str]] = []\n",
    "\n",
    "    for sample in hf_ds[\"annotations\"]:\n",
    "        sentences: List[str] = []\n",
    "        labels: List[str] = []\n",
    "        for annotation in sample[0][\"result\"]:\n",
    "            text = annotation[\"value\"][\"text\"]\n",
    "            text = text.replace('\\n', ' ') # remove newlines\n",
    "            text = text.replace('\\t', ' ') # remove tabs\n",
    "            text = ' '.join(text.split()) # remove multiple spaces\n",
    "\n",
    "            label = annotation[\"value\"][\"labels\"][0]\n",
    "\n",
    "            sentences.append(text)\n",
    "            labels.append(label)\n",
    "        \n",
    "        sentences_list.append(sentences)\n",
    "        labels_list.append(labels)\n",
    "\n",
    "    # create dataframe\n",
    "    df = pd.DataFrame({\"sentences\": sentences_list, \"labels\": labels_list})\n",
    "\n",
    "    # save dataframe\n",
    "    df.to_parquet(out_path)\n",
    "\n",
    "    # unique labels\n",
    "    unique_labels = set()\n",
    "    for labels in labels_list:\n",
    "        unique_labels.update(labels)\n",
    "    return unique_labels"
   ]
  },
  {
   "cell_type": "code",
   "execution_count": 22,
   "metadata": {},
   "outputs": [],
   "source": [
    "datasets_path = Path(\"/home/tfischer/Development/seq-sentence-classification/datasets/structuring_legal_docs\")\n",
    "\n",
    "l1 = create_dataset(ds[\"train\"], datasets_path / \"rethoricalroles_train.parquet\")\n",
    "l2 = create_dataset(ds[\"dev\"], datasets_path / \"rethoricalroles_dev.parquet\")\n",
    "l3 = create_dataset(ds[\"test\"], datasets_path / \"rethoricalroles_test.parquet\")"
   ]
  },
  {
   "cell_type": "code",
   "execution_count": 23,
   "metadata": {},
   "outputs": [
    {
     "name": "stdout",
     "output_type": "stream",
     "text": [
      "{'ARG_PETITIONER', 'ANALYSIS', 'RATIO', 'PRE_NOT_RELIED', 'STA', 'RLC', 'PREAMBLE', 'FAC', 'ISSUE', 'ARG_RESPONDENT', 'PRE_RELIED', 'NONE', 'RPC'}\n"
     ]
    }
   ],
   "source": [
    "all_labels = l1.union(l2).union(l3)\n",
    "print(all_labels)"
   ]
  },
  {
   "cell_type": "code",
   "execution_count": 24,
   "metadata": {},
   "outputs": [],
   "source": [
    "# read dataset validation\n",
    "valid_df = pd.read_parquet(datasets_path / \"rethoricalroles_test.parquet\")"
   ]
  },
  {
   "cell_type": "code",
   "execution_count": 25,
   "metadata": {},
   "outputs": [
    {
     "data": {
      "text/html": [
       "<div>\n",
       "<style scoped>\n",
       "    .dataframe tbody tr th:only-of-type {\n",
       "        vertical-align: middle;\n",
       "    }\n",
       "\n",
       "    .dataframe tbody tr th {\n",
       "        vertical-align: top;\n",
       "    }\n",
       "\n",
       "    .dataframe thead th {\n",
       "        text-align: right;\n",
       "    }\n",
       "</style>\n",
       "<table border=\"1\" class=\"dataframe\">\n",
       "  <thead>\n",
       "    <tr style=\"text-align: right;\">\n",
       "      <th></th>\n",
       "      <th>sentences</th>\n",
       "      <th>labels</th>\n",
       "    </tr>\n",
       "  </thead>\n",
       "  <tbody>\n",
       "    <tr>\n",
       "      <th>0</th>\n",
       "      <td>[IN THE HIGH COURT OF KARNATAKA DHARWAD BENCH ...</td>\n",
       "      <td>[PREAMBLE, PREAMBLE, PREAMBLE, PREAMBLE, PREAM...</td>\n",
       "    </tr>\n",
       "    <tr>\n",
       "      <th>1</th>\n",
       "      <td>[IN THE COURT OF CIVIL JUDGE-cum-JUDICIAL MAGI...</td>\n",
       "      <td>[PREAMBLE, PREAMBLE, PREAMBLE, PREAMBLE, PREAM...</td>\n",
       "    </tr>\n",
       "    <tr>\n",
       "      <th>2</th>\n",
       "      <td>[IN THE COURT OF JUDICIAL MAGISTRATE FIRST CLA...</td>\n",
       "      <td>[PREAMBLE, PREAMBLE, PREAMBLE, FAC, FAC, FAC, ...</td>\n",
       "    </tr>\n",
       "    <tr>\n",
       "      <th>3</th>\n",
       "      <td>[IN THE COURT OF JUDICIAL MAGISTRATE FIRST CLA...</td>\n",
       "      <td>[PREAMBLE, PREAMBLE, PREAMBLE, PREAMBLE, PREAM...</td>\n",
       "    </tr>\n",
       "    <tr>\n",
       "      <th>4</th>\n",
       "      <td>[IN THE HIGH COURT OF KARNATAKA AT BENGALURU D...</td>\n",
       "      <td>[PREAMBLE, PREAMBLE, PREAMBLE, PREAMBLE, PREAM...</td>\n",
       "    </tr>\n",
       "  </tbody>\n",
       "</table>\n",
       "</div>"
      ],
      "text/plain": [
       "                                           sentences  \\\n",
       "0  [IN THE HIGH COURT OF KARNATAKA DHARWAD BENCH ...   \n",
       "1  [IN THE COURT OF CIVIL JUDGE-cum-JUDICIAL MAGI...   \n",
       "2  [IN THE COURT OF JUDICIAL MAGISTRATE FIRST CLA...   \n",
       "3  [IN THE COURT OF JUDICIAL MAGISTRATE FIRST CLA...   \n",
       "4  [IN THE HIGH COURT OF KARNATAKA AT BENGALURU D...   \n",
       "\n",
       "                                              labels  \n",
       "0  [PREAMBLE, PREAMBLE, PREAMBLE, PREAMBLE, PREAM...  \n",
       "1  [PREAMBLE, PREAMBLE, PREAMBLE, PREAMBLE, PREAM...  \n",
       "2  [PREAMBLE, PREAMBLE, PREAMBLE, FAC, FAC, FAC, ...  \n",
       "3  [PREAMBLE, PREAMBLE, PREAMBLE, PREAMBLE, PREAM...  \n",
       "4  [PREAMBLE, PREAMBLE, PREAMBLE, PREAMBLE, PREAM...  "
      ]
     },
     "execution_count": 25,
     "metadata": {},
     "output_type": "execute_result"
    }
   ],
   "source": [
    "valid_df.head()"
   ]
  },
  {
   "cell_type": "code",
   "execution_count": null,
   "metadata": {},
   "outputs": [],
   "source": []
  }
 ],
 "metadata": {
  "kernelspec": {
   "display_name": "sent-class",
   "language": "python",
   "name": "python3"
  },
  "language_info": {
   "codemirror_mode": {
    "name": "ipython",
    "version": 3
   },
   "file_extension": ".py",
   "mimetype": "text/x-python",
   "name": "python",
   "nbconvert_exporter": "python",
   "pygments_lexer": "ipython3",
   "version": "3.10.15"
  }
 },
 "nbformat": 4,
 "nbformat_minor": 2
}
