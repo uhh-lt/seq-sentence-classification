{
 "cells": [
  {
   "cell_type": "code",
   "execution_count": null,
   "metadata": {},
   "outputs": [],
   "source": [
    "from pathlib import Path\n",
    "import pandas as pd\n",
    "import seaborn as sns\n",
    "import matplotlib.pyplot as plt"
   ]
  },
  {
   "cell_type": "code",
   "execution_count": null,
   "metadata": {},
   "outputs": [],
   "source": [
    "tagger_report_path = Path(\"experiments/new-seq-tagger-report.csv\")\n",
    "\n",
    "df = pd.read_csv(tagger_report_path)\n",
    "df.head()"
   ]
  },
  {
   "cell_type": "code",
   "execution_count": null,
   "metadata": {},
   "outputs": [],
   "source": [
    "# Set font size\n",
    "plt.rcParams.update({'font.size': 16})\n",
    "\n",
    "# Create a Seaborn line plot\n",
    "plt.figure(figsize=(10, 6))\n",
    "palette = sns.color_palette(\"tab10\", n_colors=len(df['Dataset'].unique()))\n",
    "sns.lineplot(x='Samples', y='F1', hue='Dataset', data=df, marker='o', palette=palette)\n",
    "plt.xscale('log', base=2)\n",
    "plt.xticks([128, 256, 512, 1024, 2048, 4096, 8192, 16384])\n",
    "plt.xlabel('Number of training samples')\n",
    "plt.ylabel('F1 Score')\n",
    "\n",
    "# Add constant lines for each dataset\n",
    "dataset_constants = {\n",
    "    'csabstruct': 45.82,\n",
    "    'dailydialog': 31.32,\n",
    "    'emotionlines': 33.26,\n",
    "    'pubmed': 56.93,\n",
    "    'coarsediscourse': 33.28\n",
    "}\n",
    "for dataset, constant in dataset_constants.items():\n",
    "    color = palette[list(df['Dataset'].unique()).index(dataset)]\n",
    "    plt.axhline(y=constant, linestyle='--', color=color, alpha=0.5)\n",
    "\n",
    "plt.legend(title='Dataset', loc='lower right')\n",
    "plt.savefig('experiments/new-seq-tagger-report.png', dpi=300, bbox_inches='tight')\n",
    "plt.show()"
   ]
  }
 ],
 "metadata": {
  "kernelspec": {
   "display_name": "sent-class",
   "language": "python",
   "name": "python3"
  },
  "language_info": {
   "codemirror_mode": {
    "name": "ipython",
    "version": 3
   },
   "file_extension": ".py",
   "mimetype": "text/x-python",
   "name": "python",
   "nbconvert_exporter": "python",
   "pygments_lexer": "ipython3",
   "version": "3.10.15"
  }
 },
 "nbformat": 4,
 "nbformat_minor": 2
}
