{
 "cells": [
  {
   "cell_type": "code",
   "execution_count": 24,
   "metadata": {},
   "outputs": [],
   "source": [
    "from pathlib import Path\n",
    "from typing import List\n",
    "import pandas as pd"
   ]
  },
  {
   "cell_type": "code",
   "execution_count": null,
   "metadata": {},
   "outputs": [],
   "source": [
    "datasets_path = Path(\"./datasets/pubmed200k\")\n",
    "valid_path = datasets_path / \"dev.txt\"\n",
    "test_path = datasets_path / \"test.txt\"\n",
    "train_path = datasets_path / \"train.txt\""
   ]
  },
  {
   "cell_type": "code",
   "execution_count": 26,
   "metadata": {},
   "outputs": [],
   "source": [
    "def create_dataset(path: Path):\n",
    "    # extract sentences and labels\n",
    "    sentences_list: List[List[str]] = []\n",
    "    labels_list: List[List[str]] = []\n",
    "    with path.open('r') as file:\n",
    "        lines = file.readlines()\n",
    "\n",
    "        sentences: List[str] = []\n",
    "        labels: List[str] = []\n",
    "\n",
    "        for line in lines:\n",
    "            if line == \"\\n\":\n",
    "                sentences_list.append(sentences)\n",
    "                labels_list.append(labels)\n",
    "                sentences = []\n",
    "                labels = []\n",
    "                \n",
    "            splitted = line.strip().split(\"\\t\")\n",
    "            if(len(splitted) == 2):\n",
    "                labels.append(splitted[0].lower())\n",
    "                sentences.append(splitted[1])\n",
    "\n",
    "    # create dataframe\n",
    "    df = pd.DataFrame({\"sentences\": sentences_list, \"labels\": labels_list})\n",
    "\n",
    "    # save dataframe\n",
    "    df.to_parquet(path.with_suffix(\".parquet\"))\n",
    "\n",
    "    # unique labels\n",
    "    unique_labels = set()\n",
    "    for labels in labels_list:\n",
    "        unique_labels.update(labels)\n",
    "    return unique_labels"
   ]
  },
  {
   "cell_type": "code",
   "execution_count": 27,
   "metadata": {},
   "outputs": [],
   "source": [
    "l1 = create_dataset(valid_path)\n",
    "l2 = create_dataset(test_path)\n",
    "l3 = create_dataset(train_path)"
   ]
  },
  {
   "cell_type": "code",
   "execution_count": 28,
   "metadata": {},
   "outputs": [
    {
     "name": "stdout",
     "output_type": "stream",
     "text": [
      "{'results', 'objective', 'background', 'methods', 'conclusions'}\n"
     ]
    }
   ],
   "source": [
    "all_labels = l1.union(l2).union(l3)\n",
    "print(all_labels)"
   ]
  },
  {
   "cell_type": "code",
   "execution_count": 29,
   "metadata": {},
   "outputs": [],
   "source": [
    "# read datasets\n",
    "valid_df = pd.read_parquet(valid_path.with_suffix(\".parquet\"))\n",
    "test_df = pd.read_parquet(test_path.with_suffix(\".parquet\"))\n",
    "train_df = pd.read_parquet(train_path.with_suffix(\".parquet\"))"
   ]
  },
  {
   "cell_type": "code",
   "execution_count": 30,
   "metadata": {},
   "outputs": [
    {
     "data": {
      "text/html": [
       "<div>\n",
       "<style scoped>\n",
       "    .dataframe tbody tr th:only-of-type {\n",
       "        vertical-align: middle;\n",
       "    }\n",
       "\n",
       "    .dataframe tbody tr th {\n",
       "        vertical-align: top;\n",
       "    }\n",
       "\n",
       "    .dataframe thead th {\n",
       "        text-align: right;\n",
       "    }\n",
       "</style>\n",
       "<table border=\"1\" class=\"dataframe\">\n",
       "  <thead>\n",
       "    <tr style=\"text-align: right;\">\n",
       "      <th></th>\n",
       "      <th>sentences</th>\n",
       "      <th>labels</th>\n",
       "    </tr>\n",
       "  </thead>\n",
       "  <tbody>\n",
       "    <tr>\n",
       "      <th>0</th>\n",
       "      <td>[IgE sensitization to Aspergillus fumigatus an...</td>\n",
       "      <td>[background, background, objective, methods, m...</td>\n",
       "    </tr>\n",
       "    <tr>\n",
       "      <th>1</th>\n",
       "      <td>[Opioid antagonists ( e.g. , naltrexone ) and ...</td>\n",
       "      <td>[background, background, background, objective...</td>\n",
       "    </tr>\n",
       "    <tr>\n",
       "      <th>2</th>\n",
       "      <td>[The sequencing of learning materials greatly ...</td>\n",
       "      <td>[background, background, background, objective...</td>\n",
       "    </tr>\n",
       "    <tr>\n",
       "      <th>3</th>\n",
       "      <td>[Patient adherence to appointments is key to i...</td>\n",
       "      <td>[background, background, background, methods, ...</td>\n",
       "    </tr>\n",
       "    <tr>\n",
       "      <th>4</th>\n",
       "      <td>[Insufficient skills in drug dose calculations...</td>\n",
       "      <td>[background, background, background, backgroun...</td>\n",
       "    </tr>\n",
       "  </tbody>\n",
       "</table>\n",
       "</div>"
      ],
      "text/plain": [
       "                                           sentences  \\\n",
       "0  [IgE sensitization to Aspergillus fumigatus an...   \n",
       "1  [Opioid antagonists ( e.g. , naltrexone ) and ...   \n",
       "2  [The sequencing of learning materials greatly ...   \n",
       "3  [Patient adherence to appointments is key to i...   \n",
       "4  [Insufficient skills in drug dose calculations...   \n",
       "\n",
       "                                              labels  \n",
       "0  [background, background, objective, methods, m...  \n",
       "1  [background, background, background, objective...  \n",
       "2  [background, background, background, objective...  \n",
       "3  [background, background, background, methods, ...  \n",
       "4  [background, background, background, backgroun...  "
      ]
     },
     "execution_count": 30,
     "metadata": {},
     "output_type": "execute_result"
    }
   ],
   "source": [
    "valid_df.head()"
   ]
  },
  {
   "cell_type": "code",
   "execution_count": 31,
   "metadata": {},
   "outputs": [
    {
     "data": {
      "text/plain": [
       "0       [background, background, objective, methods, m...\n",
       "1       [background, background, background, objective...\n",
       "2       [background, background, background, objective...\n",
       "3       [background, background, background, methods, ...\n",
       "4       [background, background, background, backgroun...\n",
       "                              ...                        \n",
       "2495    [background, background, background, backgroun...\n",
       "2496    [background, background, methods, methods, met...\n",
       "2497    [background, background, methods, methods, met...\n",
       "2498    [background, methods, methods, methods, method...\n",
       "2499    [background, methods, methods, methods, method...\n",
       "Name: labels, Length: 2500, dtype: object"
      ]
     },
     "execution_count": 31,
     "metadata": {},
     "output_type": "execute_result"
    }
   ],
   "source": [
    "valid_df[\"labels\"]"
   ]
  },
  {
   "cell_type": "code",
   "execution_count": null,
   "metadata": {},
   "outputs": [],
   "source": []
  }
 ],
 "metadata": {
  "kernelspec": {
   "display_name": "sent-class",
   "language": "python",
   "name": "python3"
  },
  "language_info": {
   "codemirror_mode": {
    "name": "ipython",
    "version": 3
   },
   "file_extension": ".py",
   "mimetype": "text/x-python",
   "name": "python",
   "nbconvert_exporter": "python",
   "pygments_lexer": "ipython3",
   "version": "3.10.15"
  }
 },
 "nbformat": 4,
 "nbformat_minor": 2
}
