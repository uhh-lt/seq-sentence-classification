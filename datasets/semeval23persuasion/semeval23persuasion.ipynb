{
 "cells": [
  {
   "cell_type": "code",
   "execution_count": null,
   "metadata": {},
   "outputs": [],
   "source": [
    "from pathlib import Path\n",
    "from typing import List\n",
    "import pandas as pd"
   ]
  },
  {
   "cell_type": "code",
   "execution_count": null,
   "metadata": {},
   "outputs": [],
   "source": [
    "datasets_path = Path(\"./datasets/semeval23persuasion/de\")\n",
    "valid_labels_path = datasets_path / \"dev-labels-subtask-3.txt\"\n",
    "valid_sentences_path = datasets_path / \"dev-labels-subtask-3.template\"\n",
    "train_labels_path = datasets_path / \"train-labels-subtask-3.txt\"\n",
    "train_sentences_path = datasets_path / \"train-labels-subtask-3.template\""
   ]
  },
  {
   "cell_type": "code",
   "execution_count": null,
   "metadata": {},
   "outputs": [],
   "source": [
    "label_map = {\n",
    "    'Slogans': 'Slogans', \n",
    "    'Loaded_Language': 'Loaded Language', \n",
    "    'Appeal_to_Fear-Prejudice': 'Appeal to Fear/Prejudice', \n",
    "    'Conversation_Killer': 'Conversation Killer', \n",
    "    'Red_Herring': 'Red Herring', \n",
    "    'Guilt_by_Association': 'Guilt by Association', \n",
    "    'Flag_Waving': 'Flag Waving', \n",
    "    'o': 'O', \n",
    "    'Appeal_to_Hypocrisy': 'Appeal to Hypocrisy', \n",
    "    'Exaggeration-Minimisation': 'Exaggeration/Minimisation', \n",
    "    'Appeal_to_Authority': 'Appeal to Authority', \n",
    "    'Name_Calling-Labeling': 'Name Calling/Labeling', \n",
    "    'Causal_Oversimplification': 'Casual Oversimplification', \n",
    "    'False_Dilemma-No_Choice': 'False Dilemma', \n",
    "    'Appeal_to_Popularity': 'Appeal to Popularity', \n",
    "    'Obfuscation-Vagueness-Confusion': 'Obfuscation/Vagueness/Confusion', \n",
    "    'Doubt': 'Doubt', \n",
    "    'Straw_Man': 'Straw Man', \n",
    "    'Whataboutism': 'Whataboutism', \n",
    "    'Repetition': 'Repetition',\n",
    "    'Appeal_to_Values': 'Appeal to Values',\n",
    "    'Questioning_the_Reputation': 'Questioning the Reputation',\n",
    "    'Consequential_Oversimplification': 'Consequential Oversimplification',\n",
    "    'Appeal_to_Time': 'Appeal to Time',\n",
    "}"
   ]
  },
  {
   "cell_type": "code",
   "execution_count": null,
   "metadata": {},
   "outputs": [],
   "source": [
    "data = {}\n",
    "\n",
    "def create_dataset(sentences_path: Path, labels_path: Path):\n",
    "\n",
    "    with sentences_path.open('r') as file:\n",
    "        sentence_lines = file.readlines()\n",
    "\n",
    "    for sentence_line in sentence_lines:\n",
    "        sentence_line_splitted = sentence_line.strip().split(\"\\t\")\n",
    "        assert len(sentence_line_splitted) == 3, f\"Number of columns in sentence file is not 3: {sentence_line_splitted}\"\n",
    "\n",
    "        document_id = sentence_line_splitted[0]\n",
    "        sentence_id = sentence_line_splitted[1]\n",
    "        sentence = sentence_line_splitted[2].strip()\n",
    "\n",
    "        data[document_id] = data.get(document_id, {})\n",
    "        data[document_id][sentence_id] = {\n",
    "            \"sentence\": sentence,\n",
    "            \"labels\": [\"o\"],\n",
    "            \"sentence_id\": sentence_id,\n",
    "            \"document_id\": document_id\n",
    "        }\n",
    "\n",
    "    with labels_path.open('r') as file:\n",
    "        label_lines = file.readlines()\n",
    "\n",
    "    for label_line in label_lines:\n",
    "        label_line_splitted = label_line.strip().split(\"\\t\")\n",
    "\n",
    "        document_id = label_line_splitted[0]\n",
    "        sentence_id = label_line_splitted[1]\n",
    "        if len(label_line_splitted) == 3:\n",
    "            label = label_line_splitted[2].split(\",\")\n",
    "        else:\n",
    "            label = [\"o\"]\n",
    "\n",
    "        label = [label_map[lab] for lab in label]\n",
    "\n",
    "        data[document_id][sentence_id][\"labels\"] = label\n",
    "\n",
    "    sentences_list: List[List[str]] = []\n",
    "    labels_list: List[List[List[str]]] = []  \n",
    "\n",
    "    for document_id, sentences_data in data.items():\n",
    "        # order sentences by sentence_id asc\n",
    "        sentences = [sentences_data[sentence_id] for sentence_id in sorted(sentences_data.keys())]\n",
    "        sentences_list.append([sentence[\"sentence\"] for sentence in sentences])\n",
    "        labels_list.append([sentence[\"labels\"] for sentence in sentences])\n",
    "\n",
    "    assert len(labels_list) == len(sentences_list), \"Number of labels and sentences do not match\"\n",
    "\n",
    "    # create dataframe\n",
    "    df = pd.DataFrame({\"sentences\": sentences_list, \"labels\": labels_list})\n",
    "\n",
    "    # save dataframe\n",
    "    df.to_parquet(sentences_path.with_suffix(\".parquet\"))\n",
    "\n",
    "    # unique labels\n",
    "    unique_labels = set()\n",
    "    for labels in labels_list:\n",
    "        for label in labels:\n",
    "            unique_labels.update(label)\n",
    "    return unique_labels"
   ]
  },
  {
   "cell_type": "code",
   "execution_count": null,
   "metadata": {},
   "outputs": [],
   "source": [
    "l1 = create_dataset(valid_sentences_path, valid_labels_path)\n",
    "l2 = create_dataset(train_sentences_path, train_labels_path)"
   ]
  },
  {
   "cell_type": "code",
   "execution_count": null,
   "metadata": {},
   "outputs": [],
   "source": [
    "all_labels = l1.union(l2)\n",
    "print(all_labels)"
   ]
  },
  {
   "cell_type": "code",
   "execution_count": null,
   "metadata": {},
   "outputs": [],
   "source": [
    "# read datasets\n",
    "valid_df = pd.read_parquet(valid_sentences_path.with_suffix(\".parquet\"))\n",
    "train_df = pd.read_parquet(train_sentences_path.with_suffix(\".parquet\"))"
   ]
  },
  {
   "cell_type": "code",
   "execution_count": null,
   "metadata": {},
   "outputs": [],
   "source": [
    "valid_df.head()"
   ]
  },
  {
   "cell_type": "code",
   "execution_count": null,
   "metadata": {},
   "outputs": [],
   "source": [
    "len(valid_df)"
   ]
  }
 ],
 "metadata": {
  "kernelspec": {
   "display_name": "sent-class",
   "language": "python",
   "name": "python3"
  },
  "language_info": {
   "codemirror_mode": {
    "name": "ipython",
    "version": 3
   },
   "file_extension": ".py",
   "mimetype": "text/x-python",
   "name": "python",
   "nbconvert_exporter": "python",
   "pygments_lexer": "ipython3",
   "version": "3.10.15"
  }
 },
 "nbformat": 4,
 "nbformat_minor": 2
}
