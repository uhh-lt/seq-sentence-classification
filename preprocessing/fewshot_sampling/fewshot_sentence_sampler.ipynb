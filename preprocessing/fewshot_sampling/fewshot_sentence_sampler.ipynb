{
 "cells": [
  {
   "cell_type": "code",
   "execution_count": null,
   "metadata": {},
   "outputs": [],
   "source": [
    "import pandas as pd\n",
    "from pathlib import Path\n",
    "import random\n",
    "import json"
   ]
  },
  {
   "cell_type": "code",
   "execution_count": null,
   "metadata": {},
   "outputs": [],
   "source": [
    "train_paths = [\n",
    "    Path(\"datasets/csabstruct/train.parquet\"),\n",
    "    Path(\"datasets/pubmed200k/train.parquet\"),\n",
    "    Path(\"datasets/coarsediscourse/coursediscourse_train.parquet\"),\n",
    "    Path(\"datasets/daily_dialog/dailydialog_train.parquet\"),\n",
    "    Path(\"datasets/emotion_lines/friends_train.parquet\"),\n",
    "]\n",
    "\n",
    "for train_path in train_paths:\n",
    "    df = pd.read_parquet(train_path)\n",
    "    print(f\"{train_path}: Number of samples: {len(df)}\")"
   ]
  },
  {
   "cell_type": "code",
   "execution_count": null,
   "metadata": {},
   "outputs": [],
   "source": [
    "for train_path in train_paths:\n",
    "    df = pd.read_parquet(train_path)\n",
    "    df.head()\n",
    "\n",
    "    # load dataset, so that i have a list of sentences and list of labels\n",
    "    sentences = df['sentences'].tolist()\n",
    "    labels = df['labels'].tolist()\n",
    "\n",
    "    # this is now a list of lists, i need to flatten it\n",
    "    sentences = [sentence for sublist in sentences for sentence in sublist]\n",
    "    labels = [label for sublist in labels for label in sublist]\n",
    "\n",
    "    # i want a dict with label as key and list of sentences as value\n",
    "    label2sentences = {}\n",
    "    for sentence, label in zip(sentences, labels):\n",
    "        if label not in label2sentences:\n",
    "            label2sentences[label] = []\n",
    "        label2sentences[label].append(sentence)\n",
    "\n",
    "    # for each label, i want to identify the K random sentences\n",
    "    K = [2, 4, 8, 16, 32]\n",
    "    for k in K:\n",
    "        fewshot_samples = {}\n",
    "        for label, sentences in label2sentences.items():\n",
    "            random_sentences = random.sample(sentences, k)\n",
    "            fewshot_samples[label] = random_sentences\n",
    "\n",
    "        # save the fewshot samples\n",
    "        with open(train_path.with_name(f\"few_shot_nAll_k{k}.json\"), \"w\") as f:\n",
    "            json.dump(fewshot_samples, f, indent=4)"
   ]
  },
  {
   "cell_type": "code",
   "execution_count": null,
   "metadata": {},
   "outputs": [],
   "source": []
  }
 ],
 "metadata": {
  "kernelspec": {
   "display_name": "sent-class",
   "language": "python",
   "name": "python3"
  },
  "language_info": {
   "codemirror_mode": {
    "name": "ipython",
    "version": 3
   },
   "file_extension": ".py",
   "mimetype": "text/x-python",
   "name": "python",
   "nbconvert_exporter": "python",
   "pygments_lexer": "ipython3",
   "version": "3.10.15"
  }
 },
 "nbformat": 4,
 "nbformat_minor": 2
}
